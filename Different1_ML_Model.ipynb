{
  "nbformat": 4,
  "nbformat_minor": 0,
  "metadata": {
    "colab": {
      "provenance": []
    },
    "kernelspec": {
      "name": "python3",
      "display_name": "Python 3"
    },
    "language_info": {
      "name": "python"
    }
  },
  "cells": [
    {
      "cell_type": "markdown",
      "source": [
        "# Logistic Regression"
      ],
      "metadata": {
        "id": "0UcVQPao6pw9"
      }
    },
    {
      "cell_type": "code",
      "execution_count": 1,
      "metadata": {
        "colab": {
          "base_uri": "https://localhost:8080/"
        },
        "id": "pZSlXHFE5P-B",
        "outputId": "ad134a0c-6e6b-457b-dc77-5afb503b0ec0"
      },
      "outputs": [
        {
          "output_type": "stream",
          "name": "stdout",
          "text": [
            "    N   P   K  temperature   humidity        ph    rainfall label\n",
            "0  90  42  43    20.879744  82.002744  6.502985  202.935536  rice\n",
            "1  85  58  41    21.770462  80.319644  7.038096  226.655537  rice\n",
            "2  60  55  44    23.004459  82.320763  7.840207  263.964248  rice\n",
            "3  74  35  40    26.491096  80.158363  6.980401  242.864034  rice\n",
            "4  78  42  42    20.130175  81.604873  7.628473  262.717340  rice\n",
            "['N', 'P', 'K', 'temperature', 'humidity', 'ph', 'rainfall', 'label']\n",
            "Model Accuracy: 0.9659090909090909\n",
            "Classification Report:\n",
            "              precision    recall  f1-score   support\n",
            "\n",
            "           0       1.00      1.00      1.00        18\n",
            "           1       1.00      1.00      1.00        18\n",
            "           2       0.82      0.82      0.82        22\n",
            "           3       1.00      1.00      1.00        23\n",
            "           4       1.00      1.00      1.00        15\n",
            "           5       1.00      1.00      1.00        17\n",
            "           6       0.89      1.00      0.94        16\n",
            "           7       1.00      1.00      1.00        18\n",
            "           8       0.87      0.95      0.91        21\n",
            "           9       1.00      1.00      1.00        20\n",
            "          10       0.94      0.94      0.94        17\n",
            "          11       0.94      0.89      0.91        18\n",
            "          12       1.00      1.00      1.00        21\n",
            "          13       0.88      0.88      0.88        25\n",
            "          14       1.00      1.00      1.00        17\n",
            "          15       1.00      1.00      1.00        23\n",
            "          16       1.00      1.00      1.00        23\n",
            "          17       1.00      0.95      0.98        21\n",
            "          18       1.00      1.00      1.00        22\n",
            "          19       1.00      1.00      1.00        23\n",
            "          20       0.96      0.88      0.92        25\n",
            "          21       1.00      1.00      1.00        17\n",
            "\n",
            "    accuracy                           0.97       440\n",
            "   macro avg       0.97      0.97      0.97       440\n",
            "weighted avg       0.97      0.97      0.97       440\n",
            "\n"
          ]
        },
        {
          "output_type": "stream",
          "name": "stderr",
          "text": [
            "/usr/local/lib/python3.10/dist-packages/sklearn/linear_model/_logistic.py:458: ConvergenceWarning: lbfgs failed to converge (status=1):\n",
            "STOP: TOTAL NO. of ITERATIONS REACHED LIMIT.\n",
            "\n",
            "Increase the number of iterations (max_iter) or scale the data as shown in:\n",
            "    https://scikit-learn.org/stable/modules/preprocessing.html\n",
            "Please also refer to the documentation for alternative solver options:\n",
            "    https://scikit-learn.org/stable/modules/linear_model.html#logistic-regression\n",
            "  n_iter_i = _check_optimize_result(\n"
          ]
        }
      ],
      "source": [
        "import pandas as pd\n",
        "import numpy as np\n",
        "\n",
        "# Load the dataset\n",
        "df = pd.read_csv(\"/content/Crop_recommendation.csv\")\n",
        "print(df.head())  # Display the first few rows\n",
        "print(df.columns.tolist())  # List column names\n",
        "\n",
        "# Define feature columns and target variable\n",
        "x = df[['N', 'P', 'K', 'temperature', 'humidity', 'ph', 'rainfall']]\n",
        "y = df['label']\n",
        "\n",
        "# Encode target labels to numerical values\n",
        "import sklearn.preprocessing as pp\n",
        "\n",
        "le = pp.LabelEncoder()\n",
        "df['label'] = le.fit_transform(df['label'].astype(str))\n",
        "y = df['label']\n",
        "\n",
        "# Split the data into training and testing sets\n",
        "from sklearn.model_selection import train_test_split\n",
        "x_train, x_test, y_train, y_test = train_test_split(x, y, test_size=0.2, random_state=0)\n",
        "\n",
        "# Train the Logistic Regression Classifier\n",
        "from sklearn.linear_model import LogisticRegression\n",
        "\n",
        "classifier = LogisticRegression(max_iter=200)\n",
        "classifier.fit(x_train, y_train)\n",
        "\n",
        "# Evaluate the model\n",
        "score = classifier.score(x_test, y_test)\n",
        "print(\"Model Accuracy:\", score)\n",
        "\n",
        "# Generate and print classification report\n",
        "from sklearn.metrics import classification_report\n",
        "\n",
        "y_pred = classifier.predict(x_test)\n",
        "report = classification_report(y_test, y_pred)\n",
        "\n",
        "print(\"Classification Report:\")\n",
        "print(report)\n"
      ]
    },
    {
      "cell_type": "markdown",
      "source": [
        "# **k-Nearest Neighbors (k-NN)**"
      ],
      "metadata": {
        "id": "EhGvLLdU6gpk"
      }
    },
    {
      "cell_type": "code",
      "source": [
        "import pandas as pd\n",
        "import numpy as np\n",
        "\n",
        "# Load the dataset\n",
        "df = pd.read_csv(\"/content/Crop_recommendation.csv\")\n",
        "print(df.head())  # Display the first few rows\n",
        "print(df.columns.tolist())  # List column names\n",
        "\n",
        "# Define feature columns and target variable\n",
        "x = df[['N', 'P', 'K', 'temperature', 'humidity', 'ph', 'rainfall']]\n",
        "y = df['label']\n",
        "\n",
        "# Encode target labels to numerical values\n",
        "import sklearn.preprocessing as pp\n",
        "\n",
        "le = pp.LabelEncoder()\n",
        "df['label'] = le.fit_transform(df['label'].astype(str))\n",
        "y = df['label']\n",
        "\n",
        "# Split the data into training and testing sets\n",
        "from sklearn.model_selection import train_test_split\n",
        "x_train, x_test, y_train, y_test = train_test_split(x, y, test_size=0.2, random_state=0)\n",
        "\n",
        "# Train the k-Nearest Neighbors Classifier\n",
        "from sklearn.neighbors import KNeighborsClassifier\n",
        "\n",
        "classifier = KNeighborsClassifier(n_neighbors=5)\n",
        "classifier.fit(x_train, y_train)\n",
        "\n",
        "# Evaluate the model\n",
        "score = classifier.score(x_test, y_test)\n",
        "print(\"Model Accuracy:\", score)\n",
        "\n",
        "# Generate and print classification report\n",
        "from sklearn.metrics import classification_report\n",
        "\n",
        "y_pred = classifier.predict(x_test)\n",
        "report = classification_report(y_test, y_pred)\n",
        "\n",
        "print(\"Classification Report:\")\n",
        "print(report)\n"
      ],
      "metadata": {
        "colab": {
          "base_uri": "https://localhost:8080/"
        },
        "id": "Ou2uZLtz6vxl",
        "outputId": "c5295a75-064e-4ef7-b642-cedd95e1c682"
      },
      "execution_count": 3,
      "outputs": [
        {
          "output_type": "stream",
          "name": "stdout",
          "text": [
            "    N   P   K  temperature   humidity        ph    rainfall label\n",
            "0  90  42  43    20.879744  82.002744  6.502985  202.935536  rice\n",
            "1  85  58  41    21.770462  80.319644  7.038096  226.655537  rice\n",
            "2  60  55  44    23.004459  82.320763  7.840207  263.964248  rice\n",
            "3  74  35  40    26.491096  80.158363  6.980401  242.864034  rice\n",
            "4  78  42  42    20.130175  81.604873  7.628473  262.717340  rice\n",
            "['N', 'P', 'K', 'temperature', 'humidity', 'ph', 'rainfall', 'label']\n",
            "Model Accuracy: 0.9772727272727273\n",
            "Classification Report:\n",
            "              precision    recall  f1-score   support\n",
            "\n",
            "           0       1.00      1.00      1.00        18\n",
            "           1       1.00      1.00      1.00        18\n",
            "           2       1.00      1.00      1.00        22\n",
            "           3       1.00      1.00      1.00        23\n",
            "           4       1.00      1.00      1.00        15\n",
            "           5       1.00      1.00      1.00        17\n",
            "           6       1.00      0.94      0.97        16\n",
            "           7       1.00      1.00      1.00        18\n",
            "           8       0.79      0.90      0.84        21\n",
            "           9       0.91      1.00      0.95        20\n",
            "          10       1.00      1.00      1.00        17\n",
            "          11       0.95      1.00      0.97        18\n",
            "          12       1.00      1.00      1.00        21\n",
            "          13       1.00      1.00      1.00        25\n",
            "          14       1.00      1.00      1.00        17\n",
            "          15       1.00      1.00      1.00        23\n",
            "          16       1.00      1.00      1.00        23\n",
            "          17       1.00      1.00      1.00        21\n",
            "          18       1.00      0.91      0.95        22\n",
            "          19       1.00      1.00      1.00        23\n",
            "          20       0.91      0.80      0.85        25\n",
            "          21       1.00      1.00      1.00        17\n",
            "\n",
            "    accuracy                           0.98       440\n",
            "   macro avg       0.98      0.98      0.98       440\n",
            "weighted avg       0.98      0.98      0.98       440\n",
            "\n"
          ]
        }
      ]
    },
    {
      "cell_type": "markdown",
      "source": [
        "# Support Vector Machine (SVM)"
      ],
      "metadata": {
        "id": "ckJIRj407WIw"
      }
    },
    {
      "cell_type": "code",
      "source": [
        "import pandas as pd\n",
        "import numpy as np\n",
        "\n",
        "# Load the dataset\n",
        "df = pd.read_csv(\"/content/Crop_recommendation.csv\")\n",
        "print(df.head())  # Display the first few rows\n",
        "print(df.columns.tolist())  # List column names\n",
        "\n",
        "# Define feature columns and target variable\n",
        "x = df[['N', 'P', 'K', 'temperature', 'humidity', 'ph', 'rainfall']]\n",
        "y = df['label']\n",
        "\n",
        "# Encode target labels to numerical values\n",
        "import sklearn.preprocessing as pp\n",
        "\n",
        "le = pp.LabelEncoder()\n",
        "df['label'] = le.fit_transform(df['label'].astype(str))\n",
        "y = df['label']\n",
        "\n",
        "# Split the data into training and testing sets\n",
        "from sklearn.model_selection import train_test_split\n",
        "x_train, x_test, y_train, y_test = train_test_split(x, y, test_size=0.2, random_state=0)\n",
        "\n",
        "# Train the Support Vector Machine Classifier\n",
        "from sklearn.svm import SVC\n",
        "\n",
        "classifier = SVC(kernel='linear')\n",
        "classifier.fit(x_train, y_train)\n",
        "\n",
        "# Evaluate the model\n",
        "score = classifier.score(x_test, y_test)\n",
        "print(\"Model Accuracy:\", score)\n",
        "\n",
        "# Generate and print classification report\n",
        "from sklearn.metrics import classification_report\n",
        "\n",
        "y_pred = classifier.predict(x_test)\n",
        "report = classification_report(y_test, y_pred)\n",
        "\n",
        "print(\"Classification Report:\")\n",
        "print(report)\n"
      ],
      "metadata": {
        "colab": {
          "base_uri": "https://localhost:8080/"
        },
        "id": "fDXePNWa7adh",
        "outputId": "c45c0b7f-dc1d-424c-a8cc-d3f00bc82111"
      },
      "execution_count": 4,
      "outputs": [
        {
          "output_type": "stream",
          "name": "stdout",
          "text": [
            "    N   P   K  temperature   humidity        ph    rainfall label\n",
            "0  90  42  43    20.879744  82.002744  6.502985  202.935536  rice\n",
            "1  85  58  41    21.770462  80.319644  7.038096  226.655537  rice\n",
            "2  60  55  44    23.004459  82.320763  7.840207  263.964248  rice\n",
            "3  74  35  40    26.491096  80.158363  6.980401  242.864034  rice\n",
            "4  78  42  42    20.130175  81.604873  7.628473  262.717340  rice\n",
            "['N', 'P', 'K', 'temperature', 'humidity', 'ph', 'rainfall', 'label']\n",
            "Model Accuracy: 0.9886363636363636\n",
            "Classification Report:\n",
            "              precision    recall  f1-score   support\n",
            "\n",
            "           0       1.00      1.00      1.00        18\n",
            "           1       1.00      1.00      1.00        18\n",
            "           2       0.96      1.00      0.98        22\n",
            "           3       1.00      1.00      1.00        23\n",
            "           4       1.00      1.00      1.00        15\n",
            "           5       1.00      1.00      1.00        17\n",
            "           6       1.00      0.94      0.97        16\n",
            "           7       1.00      1.00      1.00        18\n",
            "           8       0.91      0.95      0.93        21\n",
            "           9       1.00      1.00      1.00        20\n",
            "          10       1.00      1.00      1.00        17\n",
            "          11       0.95      1.00      0.97        18\n",
            "          12       1.00      1.00      1.00        21\n",
            "          13       1.00      0.96      0.98        25\n",
            "          14       1.00      1.00      1.00        17\n",
            "          15       1.00      1.00      1.00        23\n",
            "          16       1.00      1.00      1.00        23\n",
            "          17       1.00      1.00      1.00        21\n",
            "          18       1.00      1.00      1.00        22\n",
            "          19       1.00      1.00      1.00        23\n",
            "          20       0.96      0.92      0.94        25\n",
            "          21       1.00      1.00      1.00        17\n",
            "\n",
            "    accuracy                           0.99       440\n",
            "   macro avg       0.99      0.99      0.99       440\n",
            "weighted avg       0.99      0.99      0.99       440\n",
            "\n"
          ]
        }
      ]
    },
    {
      "cell_type": "markdown",
      "source": [
        "# Decision Tree Classifier"
      ],
      "metadata": {
        "id": "ELqX0uu57e0n"
      }
    },
    {
      "cell_type": "code",
      "source": [
        "import pandas as pd\n",
        "import numpy as np\n",
        "\n",
        "# Load the dataset\n",
        "df = pd.read_csv(\"/content/Crop_recommendation.csv\")\n",
        "print(df.head())  # Display the first few rows\n",
        "print(df.columns.tolist())  # List column names\n",
        "\n",
        "# Define feature columns and target variable\n",
        "x = df[['N', 'P', 'K', 'temperature', 'humidity', 'ph', 'rainfall']]\n",
        "y = df['label']\n",
        "\n",
        "# Encode target labels to numerical values\n",
        "import sklearn.preprocessing as pp\n",
        "\n",
        "le = pp.LabelEncoder()\n",
        "df['label'] = le.fit_transform(df['label'].astype(str))\n",
        "y = df['label']\n",
        "\n",
        "# Split the data into training and testing sets\n",
        "from sklearn.model_selection import train_test_split\n",
        "x_train, x_test, y_train, y_test = train_test_split(x, y, test_size=0.2, random_state=0)\n",
        "\n",
        "# Train the Decision Tree Classifier\n",
        "from sklearn.tree import DecisionTreeClassifier\n",
        "\n",
        "classifier = DecisionTreeClassifier()\n",
        "classifier.fit(x_train, y_train)\n",
        "\n",
        "# Evaluate the model\n",
        "score = classifier.score(x_test, y_test)\n",
        "print(\"Model Accuracy:\", score)\n",
        "\n",
        "# Generate and print classification report\n",
        "from sklearn.metrics import classification_report\n",
        "\n",
        "y_pred = classifier.predict(x_test)\n",
        "report = classification_report(y_test, y_pred)\n",
        "\n",
        "print(\"Classification Report:\")\n",
        "print(report)\n"
      ],
      "metadata": {
        "colab": {
          "base_uri": "https://localhost:8080/"
        },
        "id": "caBUJ_cB7jG1",
        "outputId": "df697f1a-8a04-4971-8c75-ce6b5d8d29c9"
      },
      "execution_count": 5,
      "outputs": [
        {
          "output_type": "stream",
          "name": "stdout",
          "text": [
            "    N   P   K  temperature   humidity        ph    rainfall label\n",
            "0  90  42  43    20.879744  82.002744  6.502985  202.935536  rice\n",
            "1  85  58  41    21.770462  80.319644  7.038096  226.655537  rice\n",
            "2  60  55  44    23.004459  82.320763  7.840207  263.964248  rice\n",
            "3  74  35  40    26.491096  80.158363  6.980401  242.864034  rice\n",
            "4  78  42  42    20.130175  81.604873  7.628473  262.717340  rice\n",
            "['N', 'P', 'K', 'temperature', 'humidity', 'ph', 'rainfall', 'label']\n",
            "Model Accuracy: 0.990909090909091\n",
            "Classification Report:\n",
            "              precision    recall  f1-score   support\n",
            "\n",
            "           0       1.00      1.00      1.00        18\n",
            "           1       1.00      1.00      1.00        18\n",
            "           2       1.00      0.95      0.98        22\n",
            "           3       0.92      1.00      0.96        23\n",
            "           4       1.00      1.00      1.00        15\n",
            "           5       1.00      1.00      1.00        17\n",
            "           6       1.00      1.00      1.00        16\n",
            "           7       1.00      1.00      1.00        18\n",
            "           8       0.95      1.00      0.98        21\n",
            "           9       1.00      0.90      0.95        20\n",
            "          10       1.00      1.00      1.00        17\n",
            "          11       1.00      1.00      1.00        18\n",
            "          12       1.00      1.00      1.00        21\n",
            "          13       0.96      1.00      0.98        25\n",
            "          14       1.00      1.00      1.00        17\n",
            "          15       1.00      1.00      1.00        23\n",
            "          16       1.00      1.00      1.00        23\n",
            "          17       1.00      1.00      1.00        21\n",
            "          18       1.00      1.00      1.00        22\n",
            "          19       1.00      1.00      1.00        23\n",
            "          20       1.00      0.96      0.98        25\n",
            "          21       1.00      1.00      1.00        17\n",
            "\n",
            "    accuracy                           0.99       440\n",
            "   macro avg       0.99      0.99      0.99       440\n",
            "weighted avg       0.99      0.99      0.99       440\n",
            "\n"
          ]
        }
      ]
    },
    {
      "cell_type": "markdown",
      "source": [
        "# Naive Bayes Classifier"
      ],
      "metadata": {
        "id": "AJDQbjCS7mve"
      }
    },
    {
      "cell_type": "code",
      "source": [
        "import pandas as pd\n",
        "import numpy as np\n",
        "\n",
        "# Load the dataset\n",
        "df = pd.read_csv(\"/content/Crop_recommendation.csv\")\n",
        "print(df.head())  # Display the first few rows\n",
        "print(df.columns.tolist())  # List column names\n",
        "\n",
        "# Define feature columns and target variable\n",
        "x = df[['N', 'P', 'K', 'temperature', 'humidity', 'ph', 'rainfall']]\n",
        "y = df['label']\n",
        "\n",
        "# Encode target labels to numerical values\n",
        "import sklearn.preprocessing as pp\n",
        "\n",
        "le = pp.LabelEncoder()\n",
        "df['label'] = le.fit_transform(df['label'].astype(str))\n",
        "y = df['label']\n",
        "\n",
        "# Split the data into training and testing sets\n",
        "from sklearn.model_selection import train_test_split\n",
        "x_train, x_test, y_train, y_test = train_test_split(x, y, test_size=0.2, random_state=0)\n",
        "\n",
        "# Train the Naive Bayes Classifier\n",
        "from sklearn.naive_bayes import GaussianNB\n",
        "\n",
        "classifier = GaussianNB()\n",
        "classifier.fit(x_train, y_train)\n",
        "\n",
        "# Evaluate the model\n",
        "score = classifier.score(x_test, y_test)\n",
        "print(\"Model Accuracy:\", score)\n",
        "\n",
        "# Generate and print classification report\n",
        "from sklearn.metrics import classification_report\n",
        "\n",
        "y_pred = classifier.predict(x_test)\n",
        "report = classification_report(y_test, y_pred)\n",
        "\n",
        "print(\"Classification Report:\")\n",
        "print(report)\n"
      ],
      "metadata": {
        "colab": {
          "base_uri": "https://localhost:8080/"
        },
        "id": "FkOagNoF7pYg",
        "outputId": "dbe5f932-336d-42ec-c5a6-ca1468a01906"
      },
      "execution_count": 6,
      "outputs": [
        {
          "output_type": "stream",
          "name": "stdout",
          "text": [
            "    N   P   K  temperature   humidity        ph    rainfall label\n",
            "0  90  42  43    20.879744  82.002744  6.502985  202.935536  rice\n",
            "1  85  58  41    21.770462  80.319644  7.038096  226.655537  rice\n",
            "2  60  55  44    23.004459  82.320763  7.840207  263.964248  rice\n",
            "3  74  35  40    26.491096  80.158363  6.980401  242.864034  rice\n",
            "4  78  42  42    20.130175  81.604873  7.628473  262.717340  rice\n",
            "['N', 'P', 'K', 'temperature', 'humidity', 'ph', 'rainfall', 'label']\n",
            "Model Accuracy: 0.9931818181818182\n",
            "Classification Report:\n",
            "              precision    recall  f1-score   support\n",
            "\n",
            "           0       1.00      1.00      1.00        18\n",
            "           1       1.00      1.00      1.00        18\n",
            "           2       1.00      1.00      1.00        22\n",
            "           3       1.00      1.00      1.00        23\n",
            "           4       1.00      1.00      1.00        15\n",
            "           5       1.00      1.00      1.00        17\n",
            "           6       1.00      1.00      1.00        16\n",
            "           7       1.00      1.00      1.00        18\n",
            "           8       0.88      1.00      0.93        21\n",
            "           9       1.00      1.00      1.00        20\n",
            "          10       1.00      1.00      1.00        17\n",
            "          11       1.00      1.00      1.00        18\n",
            "          12       1.00      1.00      1.00        21\n",
            "          13       1.00      1.00      1.00        25\n",
            "          14       1.00      1.00      1.00        17\n",
            "          15       1.00      1.00      1.00        23\n",
            "          16       1.00      1.00      1.00        23\n",
            "          17       1.00      1.00      1.00        21\n",
            "          18       1.00      1.00      1.00        22\n",
            "          19       1.00      1.00      1.00        23\n",
            "          20       1.00      0.88      0.94        25\n",
            "          21       1.00      1.00      1.00        17\n",
            "\n",
            "    accuracy                           0.99       440\n",
            "   macro avg       0.99      0.99      0.99       440\n",
            "weighted avg       0.99      0.99      0.99       440\n",
            "\n"
          ]
        }
      ]
    }
  ]
}